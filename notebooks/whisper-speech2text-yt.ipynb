{
 "metadata": {
  "colab": {
   "provenance": []
  },
  "kernelspec": {
   "name": "python3",
   "display_name": "Python 3",
   "language": "python"
  },
  "language_info": {
   "name": "python",
   "version": "3.10.12",
   "mimetype": "text/x-python",
   "codemirror_mode": {
    "name": "ipython",
    "version": 3
   },
   "pygments_lexer": "ipython3",
   "nbconvert_exporter": "python",
   "file_extension": ".py"
  }
 },
 "nbformat_minor": 4,
 "nbformat": 4,
 "cells": [
  {
   "cell_type": "code",
   "source": "import torch\n\nimport yt_dlp as youtube_dl\nfrom transformers import pipeline\nfrom transformers.pipelines.audio_utils import ffmpeg_read\n\nimport tempfile\nimport os",
   "metadata": {
    "trusted": true
   },
   "execution_count": null,
   "outputs": []
  },
  {
   "cell_type": "code",
   "source": [
    "def transcribe(inputs, task):\n",
    "    if inputs is None:\n",
    "        raise \"No audio file submitted! Please upload or record an audio file before submitting your request.\"\n",
    "\n",
    "    text = pipe(inputs, batch_size=BATCH_SIZE, generate_kwargs={\"task\": task}, return_timestamps=True)[\"text\"]\n",
    "    return text\n",
    "\n",
    "\n",
    "def _return_yt_html_embed(yt_url):\n",
    "    video_id = yt_url.split(\"?v=\")[-1]\n",
    "    HTML_str = f'<center> <iframe width=\"500\" height=\"320\" src=\"https://www.youtube.com/embed/{video_id}\"> </iframe>' \" </center>\"\n",
    "    return HTML_str\n",
    "\n",
    "\n",
    "def download_yt_audio(yt_url, filename):\n",
    "    info_loader = youtube_dl.YoutubeDL()\n",
    "\n",
    "    try:\n",
    "        info = info_loader.extract_info(yt_url, download=False)\n",
    "    except youtube_dl.utils.DownloadError as err:\n",
    "        raise gr.Error(str(err))\n",
    "\n",
    "    file_length = info[\"duration_string\"]\n",
    "    file_h_m_s = file_length.split(\":\")\n",
    "    file_h_m_s = [int(sub_length) for sub_length in file_h_m_s]\n",
    "\n",
    "    if len(file_h_m_s) == 1:\n",
    "        file_h_m_s.insert(0, 0)\n",
    "    if len(file_h_m_s) == 2:\n",
    "        file_h_m_s.insert(0, 0)\n",
    "    file_length_s = file_h_m_s[0] * 3600 + file_h_m_s[1] * 60 + file_h_m_s[2]\n",
    "\n",
    "    if file_length_s > YT_LENGTH_LIMIT_S:\n",
    "        yt_length_limit_hms = time.strftime(\"%HH:%MM:%SS\", time.gmtime(YT_LENGTH_LIMIT_S))\n",
    "        file_length_hms = time.strftime(\"%HH:%MM:%SS\", time.gmtime(file_length_s))\n",
    "        raise gr.Error(f\"Maximum YouTube length is {yt_length_limit_hms}, got {file_length_hms} YouTube video.\")\n",
    "\n",
    "    ydl_opts = {\"outtmpl\": filename, \"format\": \"worstvideo[ext=mp4]+bestaudio[ext=m4a]/best[ext=mp4]/best\"}\n",
    "\n",
    "    with youtube_dl.YoutubeDL(ydl_opts) as ydl:\n",
    "        try:\n",
    "            ydl.download([yt_url])\n",
    "        except youtube_dl.utils.ExtractorError as err:\n",
    "            raise gr.Error(str(err))\n",
    "\n",
    "\n",
    "def yt_transcribe(yt_url, task, max_filesize=75.0):\n",
    "    html_embed_str = _return_yt_html_embed(yt_url)\n",
    "\n",
    "    with tempfile.TemporaryDirectory() as tmpdirname:\n",
    "        filepath = os.path.join(tmpdirname, \"video.mp4\")\n",
    "        download_yt_audio(yt_url, filepath)\n",
    "        with open(filepath, \"rb\") as f:\n",
    "            inputs = f.read()\n",
    "\n",
    "    inputs = ffmpeg_read(inputs, pipe.feature_extractor.sampling_rate)\n",
    "    inputs = {\"array\": inputs, \"sampling_rate\": pipe.feature_extractor.sampling_rate}\n",
    "\n",
    "    text = pipe(inputs, batch_size=BATCH_SIZE, generate_kwargs={\"task\": task}, return_timestamps=True)[\"text\"]\n",
    "\n",
    "    return html_embed_str, text"
   ],
   "metadata": {
    "trusted": true
   },
   "execution_count": null,
   "outputs": []
  },
  {
   "cell_type": "code",
   "source": "MODEL_NAME = \"openai/whisper-large-v2\"\nBATCH_SIZE = 8\nFILE_LIMIT_MB = 1000\nYT_LENGTH_LIMIT_S = 3600  # limit to 1 hour YouTube files\n\ndevice = 0 if torch.cuda.is_available() else \"cpu\"\n\npipe = pipeline(\n    task=\"automatic-speech-recognition\",\n    model=MODEL_NAME,\n    chunk_length_s=30,\n    device=device,\n)",
   "metadata": {
    "id": "qPI6_sXQjeWC",
    "trusted": true
   },
   "execution_count": null,
   "outputs": []
  },
  {
   "cell_type": "code",
   "source": "if __name__ == \"__main__\":\n    html_embed_str, text = yt_transcribe(\"https://www.youtube.com/shorts/BBCbIxuBJws\", \"transcribe\")\n    print(text)",
   "metadata": {
    "trusted": true
   },
   "execution_count": null,
   "outputs": []
  },
  {
   "cell_type": "code",
   "source": "",
   "metadata": {},
   "execution_count": null,
   "outputs": []
  }
 ]
}